{
  "cells": [
    {
      "cell_type": "markdown",
      "metadata": {
        "id": "p9L5Rw8dzCVz"
      },
      "source": [
        "Assignment 07 -  Implement Forward Chaining Algorithm\n"
      ]
    },
    {
      "cell_type": "code",
      "execution_count": 2,
      "metadata": {
        "colab": {
          "base_uri": "https://localhost:8080/"
        },
        "id": "RbUTFE37szPz",
        "outputId": "0b3b668d-89c8-4ac7-df2c-8a279a59b3d0"
      },
      "outputs": [
        {
          "name": "stdout",
          "output_type": "stream",
          "text": [
            "Rule fired: {'I have umbrella', 'It is raining'} -> I will go outside\n",
            "Rule fired: {'I will go outside'} -> I will be happy\n",
            "\n",
            " Goal 'I will be happy' has been reached!\n",
            "\n",
            "Final Facts: {'I have umbrella', 'I will go outside', 'It is raining', 'I will be happy'}\n"
          ]
        }
      ],
      "source": [
        "# Forward Chaining with real statements\n",
        "\n",
        "rules = [\n",
        "    {\"conditions\": {\"It is raining\", \"I have umbrella\"}, \"conclusion\": \"I will go outside\"},\n",
        "    {\"conditions\": {\"It is raining\", \"I don't have umbrella\"}, \"conclusion\": \"I will stay home\"},\n",
        "    {\"conditions\": {\"I will go outside\"}, \"conclusion\": \"I will be happy\"}\n",
        "]\n",
        "\n",
        "# Initial Facts\n",
        "facts = {\"It is raining\", \"I have umbrella\"}\n",
        "\n",
        "# Goal\n",
        "goal = \"I will be happy\"\n",
        "\n",
        "def forward_chaining(rules, facts, goal):\n",
        "    derived = True\n",
        "    while derived:\n",
        "        derived = False\n",
        "        for rule in rules:\n",
        "            if rule[\"conditions\"].issubset(facts):\n",
        "                conclusion = rule[\"conclusion\"]\n",
        "                if conclusion not in facts:\n",
        "                    print(f\"Rule fired: {rule['conditions']} -> {conclusion}\")\n",
        "                    facts.add(conclusion)\n",
        "                    derived = True\n",
        "\n",
        "                    if conclusion == goal:\n",
        "                        print(f\"\\n Goal '{goal}' has been reached!\")\n",
        "                        return facts\n",
        "    print(f\"\\n Goal '{goal}' could not be reached.\")\n",
        "    return facts\n",
        "\n",
        "# Run Forward Chaining\n",
        "final_facts = forward_chaining(rules, facts, goal)\n",
        "\n",
        "print(\"\\nFinal Facts:\", final_facts)\n"
      ]
    }
  ],
  "metadata": {
    "colab": {
      "provenance": []
    },
    "kernelspec": {
      "display_name": "Python 3",
      "name": "python3"
    },
    "language_info": {
      "name": "python"
    }
  },
  "nbformat": 4,
  "nbformat_minor": 0
}

{
  "nbformat": 4,
  "nbformat_minor": 0,
  "metadata": {
    "colab": {
      "provenance": []
    },
    "kernelspec": {
      "name": "python3",
      "display_name": "Python 3"
    },
    "language_info": {
      "name": "python"
    }
  },
  "cells": [
    {
      "cell_type": "code",
      "execution_count": 1,
      "metadata": {
        "colab": {
          "base_uri": "https://localhost:8080/"
        },
        "id": "OsxM2vrZ-rIy",
        "outputId": "b6a23ba1-cbc2-4e58-e2e9-1ee3a1e78029"
      },
      "outputs": [
        {
          "output_type": "stream",
          "name": "stderr",
          "text": [
            "[nltk_data] Downloading package punkt to /root/nltk_data...\n",
            "[nltk_data]   Package punkt is already up-to-date!\n"
          ]
        },
        {
          "output_type": "stream",
          "name": "stdout",
          "text": [
            "🤖 CityCare Hospital Chatbot: Hello! Type 'bye' to exit.\n",
            "You: hi\n",
            "Bot: Hi there! How can I assist you today?\n",
            "You: what are your timings\n",
            "Bot: You can visit us any time — we're open all day, every day.\n",
            "You: who are your doctors\n",
            "Bot: Our doctors include specialists in Cardiology, Pediatrics, and Dermatology.\n",
            "You: book appointment\n",
            "Bot: Sure! Please provide your name and preferred doctor to book an appointment.\n",
            "You: bye\n",
            "Bot: Goodbye! Stay healthy!\n"
          ]
        }
      ],
      "source": [
        "# ============================================\n",
        "# 🤖 Hospital Appointment Chatbot using Python\n",
        "# ============================================\n",
        "\n",
        "import random\n",
        "import nltk\n",
        "nltk.download('punkt')\n",
        "\n",
        "# Sample responses database\n",
        "responses = {\n",
        "    \"greeting\": [\n",
        "        \"Hello! Welcome to CityCare Hospital 😊\",\n",
        "        \"Hi there! How can I assist you today?\",\n",
        "        \"Good day! Need help with booking an appointment?\"\n",
        "    ],\n",
        "    \"goodbye\": [\n",
        "        \"Take care! Get well soon 💙\",\n",
        "        \"Goodbye! Stay healthy!\",\n",
        "        \"Thanks for visiting CityCare Hospital.\"\n",
        "    ],\n",
        "    \"hours\": [\n",
        "        \"Our hospital is open 24 hours every day.\",\n",
        "        \"You can visit us any time — we're open all day, every day.\"\n",
        "    ],\n",
        "    \"doctors\": [\n",
        "        \"We have Dr. Mehta (Cardiologist), Dr. Sharma (Pediatrician), and Dr. Gupta (Dermatologist).\",\n",
        "        \"Our doctors include specialists in Cardiology, Pediatrics, and Dermatology.\"\n",
        "    ],\n",
        "    \"appointment\": [\n",
        "        \"Sure! Please provide your name and preferred doctor to book an appointment.\",\n",
        "        \"I can help with that. Which doctor would you like to see?\"\n",
        "    ],\n",
        "    \"location\": [\n",
        "        \"CityCare Hospital is located near MG Road, Pune.\",\n",
        "        \"You can find us near MG Road, opposite Central Mall, Pune.\"\n",
        "    ],\n",
        "    \"default\": [\n",
        "        \"I'm sorry, I didn’t understand that. Can you please rephrase?\",\n",
        "        \"Hmm, can you say that differently? I’ll try to help!\",\n",
        "        \"Could you please clarify your question?\"\n",
        "    ]\n",
        "}\n",
        "\n",
        "# Function to classify user input\n",
        "def get_intent(user_input):\n",
        "    user_input = user_input.lower()\n",
        "\n",
        "    if any(word in user_input for word in [\"hi\", \"hello\", \"hey\"]):\n",
        "        return \"greeting\"\n",
        "    elif any(word in user_input for word in [\"bye\", \"goodbye\", \"exit\"]):\n",
        "        return \"goodbye\"\n",
        "    elif any(word in user_input for word in [\"open\", \"timing\", \"hours\"]):\n",
        "        return \"hours\"\n",
        "    elif any(word in user_input for word in [\"doctor\", \"doctors\", \"specialist\"]):\n",
        "        return \"doctors\"\n",
        "    elif any(word in user_input for word in [\"book\", \"appointment\", \"meeting\"]):\n",
        "        return \"appointment\"\n",
        "    elif any(word in user_input for word in [\"location\", \"address\", \"where\"]):\n",
        "        return \"location\"\n",
        "    else:\n",
        "        return \"default\"\n",
        "\n",
        "# Main chatbot loop\n",
        "def chatbot():\n",
        "    print(\"🤖 CityCare Hospital Chatbot: Hello! Type 'bye' to exit.\")\n",
        "    while True:\n",
        "        user_input = input(\"You: \")\n",
        "        intent = get_intent(user_input)\n",
        "        response = random.choice(responses[intent])\n",
        "        print(\"Bot:\", response)\n",
        "\n",
        "        if intent == \"goodbye\":\n",
        "            break\n",
        "\n",
        "# Run chatbot\n",
        "chatbot()\n"
      ]
    }
  ]
}
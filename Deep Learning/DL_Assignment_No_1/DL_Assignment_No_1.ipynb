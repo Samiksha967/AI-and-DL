{
  "cells": [
    {
      "cell_type": "markdown",
      "metadata": {
        "id": "9PFtzbjMtfDC"
      },
      "source": [
        "Assignment NO 1- Problem Statement\n",
        "1. Implementing Feedforward neural networks in Python using Keras and TensorFlow"
      ]
    },
    {
      "cell_type": "code",
      "execution_count": 1,
      "metadata": {
        "colab": {
          "base_uri": "https://localhost:8080/"
        },
        "id": "Yke9YS7GrjDK",
        "outputId": "14ed3969-3dc3-4fbe-fda3-da6cbcd4fe20"
      },
      "outputs": [
        {
          "name": "stdout",
          "output_type": "stream",
          "text": [
            "Requirement already satisfied: tensorflow_datasets in c:\\users\\samik\\appdata\\local\\programs\\python\\python312\\lib\\site-packages (4.9.9)\n",
            "Requirement already satisfied: absl-py in c:\\users\\samik\\appdata\\local\\programs\\python\\python312\\lib\\site-packages (from tensorflow_datasets) (2.1.0)\n",
            "Requirement already satisfied: dm-tree in c:\\users\\samik\\appdata\\local\\programs\\python\\python312\\lib\\site-packages (from tensorflow_datasets) (0.1.9)\n",
            "Requirement already satisfied: etils>=1.9.1 in c:\\users\\samik\\appdata\\local\\programs\\python\\python312\\lib\\site-packages (from etils[edc,enp,epath,epy,etree]>=1.9.1; python_version >= \"3.11\"->tensorflow_datasets) (1.13.0)\n",
            "Requirement already satisfied: immutabledict in c:\\users\\samik\\appdata\\local\\programs\\python\\python312\\lib\\site-packages (from tensorflow_datasets) (4.2.1)\n",
            "Requirement already satisfied: numpy in c:\\users\\samik\\appdata\\local\\programs\\python\\python312\\lib\\site-packages (from tensorflow_datasets) (1.26.4)\n",
            "Requirement already satisfied: promise in c:\\users\\samik\\appdata\\local\\programs\\python\\python312\\lib\\site-packages (from tensorflow_datasets) (2.3)\n",
            "Requirement already satisfied: protobuf>=3.20 in c:\\users\\samik\\appdata\\local\\programs\\python\\python312\\lib\\site-packages (from tensorflow_datasets) (4.25.5)\n",
            "Requirement already satisfied: psutil in c:\\users\\samik\\appdata\\local\\programs\\python\\python312\\lib\\site-packages (from tensorflow_datasets) (6.0.0)\n",
            "Requirement already satisfied: pyarrow in c:\\users\\samik\\appdata\\local\\programs\\python\\python312\\lib\\site-packages (from tensorflow_datasets) (21.0.0)\n",
            "Requirement already satisfied: requests>=2.19.0 in c:\\users\\samik\\appdata\\local\\programs\\python\\python312\\lib\\site-packages (from tensorflow_datasets) (2.32.3)\n",
            "Requirement already satisfied: simple_parsing in c:\\users\\samik\\appdata\\local\\programs\\python\\python312\\lib\\site-packages (from tensorflow_datasets) (0.1.7)\n",
            "Requirement already satisfied: tensorflow-metadata in c:\\users\\samik\\appdata\\local\\programs\\python\\python312\\lib\\site-packages (from tensorflow_datasets) (1.17.2)\n",
            "Requirement already satisfied: termcolor in c:\\users\\samik\\appdata\\local\\programs\\python\\python312\\lib\\site-packages (from tensorflow_datasets) (2.4.0)\n",
            "Requirement already satisfied: toml in c:\\users\\samik\\appdata\\local\\programs\\python\\python312\\lib\\site-packages (from tensorflow_datasets) (0.10.2)\n",
            "Requirement already satisfied: tqdm in c:\\users\\samik\\appdata\\local\\programs\\python\\python312\\lib\\site-packages (from tensorflow_datasets) (4.66.5)\n",
            "Requirement already satisfied: wrapt in c:\\users\\samik\\appdata\\local\\programs\\python\\python312\\lib\\site-packages (from tensorflow_datasets) (1.16.0)\n",
            "Requirement already satisfied: einops in c:\\users\\samik\\appdata\\local\\programs\\python\\python312\\lib\\site-packages (from etils[edc,enp,epath,epy,etree]>=1.9.1; python_version >= \"3.11\"->tensorflow_datasets) (0.8.1)\n",
            "Requirement already satisfied: fsspec in c:\\users\\samik\\appdata\\local\\programs\\python\\python312\\lib\\site-packages (from etils[edc,enp,epath,epy,etree]>=1.9.1; python_version >= \"3.11\"->tensorflow_datasets) (2025.2.0)\n",
            "Requirement already satisfied: importlib_resources in c:\\users\\samik\\appdata\\local\\programs\\python\\python312\\lib\\site-packages (from etils[edc,enp,epath,epy,etree]>=1.9.1; python_version >= \"3.11\"->tensorflow_datasets) (6.5.2)\n",
            "Requirement already satisfied: typing_extensions in c:\\users\\samik\\appdata\\local\\programs\\python\\python312\\lib\\site-packages (from etils[edc,enp,epath,epy,etree]>=1.9.1; python_version >= \"3.11\"->tensorflow_datasets) (4.12.2)\n",
            "Requirement already satisfied: zipp in c:\\users\\samik\\appdata\\local\\programs\\python\\python312\\lib\\site-packages (from etils[edc,enp,epath,epy,etree]>=1.9.1; python_version >= \"3.11\"->tensorflow_datasets) (3.23.0)\n",
            "Requirement already satisfied: charset-normalizer<4,>=2 in c:\\users\\samik\\appdata\\local\\programs\\python\\python312\\lib\\site-packages (from requests>=2.19.0->tensorflow_datasets) (3.3.2)\n",
            "Requirement already satisfied: idna<4,>=2.5 in c:\\users\\samik\\appdata\\local\\programs\\python\\python312\\lib\\site-packages (from requests>=2.19.0->tensorflow_datasets) (3.10)\n",
            "Requirement already satisfied: urllib3<3,>=1.21.1 in c:\\users\\samik\\appdata\\local\\programs\\python\\python312\\lib\\site-packages (from requests>=2.19.0->tensorflow_datasets) (2.2.3)\n",
            "Requirement already satisfied: certifi>=2017.4.17 in c:\\users\\samik\\appdata\\local\\programs\\python\\python312\\lib\\site-packages (from requests>=2.19.0->tensorflow_datasets) (2024.8.30)\n",
            "Requirement already satisfied: attrs>=18.2.0 in c:\\users\\samik\\appdata\\local\\programs\\python\\python312\\lib\\site-packages (from dm-tree->tensorflow_datasets) (24.2.0)\n",
            "Requirement already satisfied: six in c:\\users\\samik\\appdata\\local\\programs\\python\\python312\\lib\\site-packages (from promise->tensorflow_datasets) (1.16.0)\n",
            "Requirement already satisfied: docstring-parser<1.0,>=0.15 in c:\\users\\samik\\appdata\\local\\programs\\python\\python312\\lib\\site-packages (from simple_parsing->tensorflow_datasets) (0.17.0)\n",
            "Requirement already satisfied: googleapis-common-protos<2,>=1.56.4 in c:\\users\\samik\\appdata\\local\\programs\\python\\python312\\lib\\site-packages (from tensorflow-metadata->tensorflow_datasets) (1.70.0)\n",
            "Requirement already satisfied: colorama in c:\\users\\samik\\appdata\\local\\programs\\python\\python312\\lib\\site-packages (from tqdm->tensorflow_datasets) (0.4.6)\n"
          ]
        },
        {
          "name": "stderr",
          "output_type": "stream",
          "text": [
            "\n",
            "[notice] A new release of pip is available: 25.0.1 -> 25.2\n",
            "[notice] To update, run: python.exe -m pip install --upgrade pip\n"
          ]
        }
      ],
      "source": [
        "!pip install tensorflow_datasets"
      ]
    },
    {
      "cell_type": "code",
      "execution_count": 2,
      "metadata": {
        "id": "_-MgBDV8r3Nb"
      },
      "outputs": [],
      "source": [
        "# Import libraries\n",
        "import tensorflow as tf\n",
        "from tensorflow.keras.models import Sequential\n",
        "from tensorflow.keras.layers import Dense, Flatten\n",
        "from tensorflow.keras.datasets import mnist\n",
        "from tensorflow.keras.utils import to_categorical"
      ]
    },
    {
      "cell_type": "code",
      "execution_count": 3,
      "metadata": {
        "colab": {
          "base_uri": "https://localhost:8080/"
        },
        "id": "hI63nZ_asHkR",
        "outputId": "555e4b86-2b05-4c4b-d4af-94e7f37b3f72"
      },
      "outputs": [],
      "source": [
        "# Load the dataset\n",
        "(x_train, y_train), (x_test, y_test) = mnist.load_data()"
      ]
    },
    {
      "cell_type": "code",
      "execution_count": 4,
      "metadata": {
        "id": "1E3VtseqsUkE"
      },
      "outputs": [],
      "source": [
        "# Normalize the input data\n",
        "x_train = x_train / 255.0\n",
        "x_test = x_test / 255.0"
      ]
    },
    {
      "cell_type": "code",
      "execution_count": 5,
      "metadata": {
        "id": "NGUnPTI1sZCK"
      },
      "outputs": [],
      "source": [
        "# One-hot encode the labels\n",
        "y_train = to_categorical(y_train, 10)\n",
        "y_test = to_categorical(y_test, 10)"
      ]
    },
    {
      "cell_type": "code",
      "execution_count": 6,
      "metadata": {
        "colab": {
          "base_uri": "https://localhost:8080/"
        },
        "id": "fydu9kwgscvP",
        "outputId": "d24ca5bb-3e40-4137-a39f-3ee5fe9448f5"
      },
      "outputs": [
        {
          "name": "stderr",
          "output_type": "stream",
          "text": [
            "c:\\Users\\samik\\AppData\\Local\\Programs\\Python\\Python312\\Lib\\site-packages\\keras\\src\\layers\\reshaping\\flatten.py:37: UserWarning: Do not pass an `input_shape`/`input_dim` argument to a layer. When using Sequential models, prefer using an `Input(shape)` object as the first layer in the model instead.\n",
            "  super().__init__(**kwargs)\n"
          ]
        }
      ],
      "source": [
        "# Build the Feedforward Neural Network model\n",
        "model = Sequential([\n",
        "    Flatten(input_shape=(28, 28)),           # Input layer (784 units)\n",
        "    Dense(128, activation='relu'),           # Hidden layer with 128 neurons\n",
        "    Dense(64, activation='relu'),            # Hidden layer with 64 neurons\n",
        "    Dense(10, activation='softmax')          # Output layer with 10 classes\n",
        "])"
      ]
    },
    {
      "cell_type": "code",
      "execution_count": 7,
      "metadata": {
        "id": "Hu_8MubDsiSt"
      },
      "outputs": [],
      "source": [
        "# Compile the model\n",
        "model.compile(optimizer='adam',\n",
        "              loss='categorical_crossentropy',\n",
        "              metrics=['accuracy'])"
      ]
    },
    {
      "cell_type": "code",
      "execution_count": 8,
      "metadata": {
        "colab": {
          "base_uri": "https://localhost:8080/"
        },
        "id": "T53aXT_Ysq55",
        "outputId": "11a8fdf3-6fa7-43fc-ac7e-8b430d0973a4"
      },
      "outputs": [
        {
          "name": "stdout",
          "output_type": "stream",
          "text": [
            "Epoch 1/5\n",
            "\u001b[1m1688/1688\u001b[0m \u001b[32m━━━━━━━━━━━━━━━━━━━━\u001b[0m\u001b[37m\u001b[0m \u001b[1m13s\u001b[0m 5ms/step - accuracy: 0.8717 - loss: 0.4470 - val_accuracy: 0.9650 - val_loss: 0.1184\n",
            "Epoch 2/5\n",
            "\u001b[1m1688/1688\u001b[0m \u001b[32m━━━━━━━━━━━━━━━━━━━━\u001b[0m\u001b[37m\u001b[0m \u001b[1m8s\u001b[0m 4ms/step - accuracy: 0.9658 - loss: 0.1093 - val_accuracy: 0.9737 - val_loss: 0.0881\n",
            "Epoch 3/5\n",
            "\u001b[1m1688/1688\u001b[0m \u001b[32m━━━━━━━━━━━━━━━━━━━━\u001b[0m\u001b[37m\u001b[0m \u001b[1m8s\u001b[0m 5ms/step - accuracy: 0.9771 - loss: 0.0727 - val_accuracy: 0.9765 - val_loss: 0.0809\n",
            "Epoch 4/5\n",
            "\u001b[1m1688/1688\u001b[0m \u001b[32m━━━━━━━━━━━━━━━━━━━━\u001b[0m\u001b[37m\u001b[0m \u001b[1m8s\u001b[0m 5ms/step - accuracy: 0.9829 - loss: 0.0548 - val_accuracy: 0.9758 - val_loss: 0.0826\n",
            "Epoch 5/5\n",
            "\u001b[1m1688/1688\u001b[0m \u001b[32m━━━━━━━━━━━━━━━━━━━━\u001b[0m\u001b[37m\u001b[0m \u001b[1m8s\u001b[0m 5ms/step - accuracy: 0.9871 - loss: 0.0405 - val_accuracy: 0.9767 - val_loss: 0.0810\n"
          ]
        },
        {
          "data": {
            "text/plain": [
              "<keras.src.callbacks.history.History at 0x238f9f2f2f0>"
            ]
          },
          "execution_count": 8,
          "metadata": {},
          "output_type": "execute_result"
        }
      ],
      "source": [
        "# Train the model\n",
        "model.fit(x_train, y_train, epochs=5, batch_size=32, validation_split=0.1)"
      ]
    },
    {
      "cell_type": "code",
      "execution_count": 9,
      "metadata": {
        "colab": {
          "base_uri": "https://localhost:8080/"
        },
        "id": "bsehEi2Fs1hi",
        "outputId": "90484db0-1690-4a04-be65-d0a9a13f9c7c"
      },
      "outputs": [
        {
          "name": "stdout",
          "output_type": "stream",
          "text": [
            "\u001b[1m313/313\u001b[0m \u001b[32m━━━━━━━━━━━━━━━━━━━━\u001b[0m\u001b[37m\u001b[0m \u001b[1m1s\u001b[0m 3ms/step - accuracy: 0.9715 - loss: 0.0905\n",
            "\n",
            "Test Accuracy: 0.9757\n"
          ]
        }
      ],
      "source": [
        "# Evaluate the model\n",
        "test_loss, test_acc = model.evaluate(x_test, y_test)\n",
        "print(f\"\\nTest Accuracy: {test_acc:.4f}\")"
      ]
    }
  ],
  "metadata": {
    "colab": {
      "provenance": []
    },
    "kernelspec": {
      "display_name": "Python 3",
      "name": "python3"
    },
    "language_info": {
      "codemirror_mode": {
        "name": "ipython",
        "version": 3
      },
      "file_extension": ".py",
      "mimetype": "text/x-python",
      "name": "python",
      "nbconvert_exporter": "python",
      "pygments_lexer": "ipython3",
      "version": "3.12.2"
    }
  },
  "nbformat": 4,
  "nbformat_minor": 0
}

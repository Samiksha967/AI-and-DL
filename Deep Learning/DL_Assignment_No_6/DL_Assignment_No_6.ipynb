{
 "cells": [
  {
   "cell_type": "code",
   "execution_count": 1,
   "id": "5cd7048f",
   "metadata": {},
   "outputs": [],
   "source": [
    "import tensorflow as tf\n",
    "from tensorflow.keras import layers, models\n",
    "from tensorflow.keras.datasets import imdb\n",
    "from tensorflow.keras.preprocessing.sequence import pad_sequences\n",
    "import numpy as np\n",
    "\n"
   ]
  },
  {
   "cell_type": "code",
   "execution_count": 2,
   "id": "69047193",
   "metadata": {},
   "outputs": [],
   "source": [
    "# Load IMDB data (only top 10000 frequent words)\n",
    "num_words = 10000\n",
    "(x_train, y_train), (x_test, y_test) = imdb.load_data(num_words=num_words)"
   ]
  },
  {
   "cell_type": "code",
   "execution_count": 3,
   "id": "e0d3fa37",
   "metadata": {},
   "outputs": [],
   "source": [
    "# Pad sequences so that every input is same length\n",
    "maxlen = 200\n",
    "x_train = pad_sequences(x_train, maxlen=maxlen)\n",
    "x_test = pad_sequences(x_test, maxlen=maxlen)\n"
   ]
  },
  {
   "cell_type": "code",
   "execution_count": 4,
   "id": "d27800a9",
   "metadata": {},
   "outputs": [
    {
     "name": "stderr",
     "output_type": "stream",
     "text": [
      "c:\\Users\\samik\\AppData\\Local\\Programs\\Python\\Python312\\Lib\\site-packages\\keras\\src\\layers\\core\\embedding.py:90: UserWarning: Argument `input_length` is deprecated. Just remove it.\n",
      "  warnings.warn(\n"
     ]
    }
   ],
   "source": [
    "# Build LSTM model\n",
    "model = models.Sequential()\n",
    "model.add(layers.Embedding(input_dim=num_words, output_dim=128, input_length=maxlen))\n",
    "model.add(layers.LSTM(64))\n",
    "model.add(layers.Dense(1, activation='sigmoid'))  # binary sentiment\n"
   ]
  },
  {
   "cell_type": "code",
   "execution_count": 5,
   "id": "20b50321",
   "metadata": {},
   "outputs": [],
   "source": [
    "\n",
    "# Compile model\n",
    "model.compile(optimizer='adam',\n",
    "              loss='binary_crossentropy',\n",
    "              metrics=['accuracy'])"
   ]
  },
  {
   "cell_type": "code",
   "execution_count": 6,
   "id": "1d2524e0",
   "metadata": {},
   "outputs": [
    {
     "name": "stdout",
     "output_type": "stream",
     "text": [
      "Epoch 1/5\n",
      "\u001b[1m313/313\u001b[0m \u001b[32m━━━━━━━━━━━━━━━━━━━━\u001b[0m\u001b[37m\u001b[0m \u001b[1m132s\u001b[0m 412ms/step - accuracy: 0.6946 - loss: 0.5665 - val_accuracy: 0.8398 - val_loss: 0.3732\n",
      "Epoch 2/5\n",
      "\u001b[1m313/313\u001b[0m \u001b[32m━━━━━━━━━━━━━━━━━━━━\u001b[0m\u001b[37m\u001b[0m \u001b[1m119s\u001b[0m 382ms/step - accuracy: 0.8954 - loss: 0.2745 - val_accuracy: 0.8180 - val_loss: 0.4022\n",
      "Epoch 3/5\n",
      "\u001b[1m313/313\u001b[0m \u001b[32m━━━━━━━━━━━━━━━━━━━━\u001b[0m\u001b[37m\u001b[0m \u001b[1m122s\u001b[0m 391ms/step - accuracy: 0.9151 - loss: 0.2195 - val_accuracy: 0.8664 - val_loss: 0.3313\n",
      "Epoch 4/5\n",
      "\u001b[1m313/313\u001b[0m \u001b[32m━━━━━━━━━━━━━━━━━━━━\u001b[0m\u001b[37m\u001b[0m \u001b[1m122s\u001b[0m 389ms/step - accuracy: 0.9521 - loss: 0.1310 - val_accuracy: 0.8682 - val_loss: 0.3897\n",
      "Epoch 5/5\n",
      "\u001b[1m313/313\u001b[0m \u001b[32m━━━━━━━━━━━━━━━━━━━━\u001b[0m\u001b[37m\u001b[0m \u001b[1m112s\u001b[0m 358ms/step - accuracy: 0.9638 - loss: 0.1047 - val_accuracy: 0.8538 - val_loss: 0.4183\n"
     ]
    }
   ],
   "source": [
    "# Train model\n",
    "history = model.fit(x_train, y_train,\n",
    "                    epochs=5,\n",
    "                    batch_size=64,\n",
    "                    validation_split=0.2)"
   ]
  },
  {
   "cell_type": "code",
   "execution_count": 7,
   "id": "10e2501c",
   "metadata": {},
   "outputs": [
    {
     "name": "stdout",
     "output_type": "stream",
     "text": [
      "\u001b[1m782/782\u001b[0m \u001b[32m━━━━━━━━━━━━━━━━━━━━\u001b[0m\u001b[37m\u001b[0m \u001b[1m90s\u001b[0m 115ms/step - accuracy: 0.8495 - loss: 0.4411\n",
      "Test accuracy: 0.8511599898338318\n"
     ]
    }
   ],
   "source": [
    "# Evaluate model\n",
    "test_loss, test_acc = model.evaluate(x_test, y_test)\n",
    "print(\"Test accuracy:\", test_acc)"
   ]
  },
  {
   "cell_type": "code",
   "execution_count": 8,
   "id": "48bc2c03",
   "metadata": {},
   "outputs": [],
   "source": [
    "# Function to predict sentiment of new texts\n",
    "def predict_sentiment(text_sequences):\n",
    "    # text_sequences should be preprocessed same as training data\n",
    "    # pad them\n",
    "    padded = pad_sequences(text_sequences, maxlen=maxlen)\n",
    "    preds = model.predict(padded)\n",
    "    return [1 if p >= 0.5 else 0 for p in preds]"
   ]
  },
  {
   "cell_type": "code",
   "execution_count": 9,
   "id": "179359d4",
   "metadata": {},
   "outputs": [
    {
     "name": "stdout",
     "output_type": "stream",
     "text": [
      "\u001b[1m1/1\u001b[0m \u001b[32m━━━━━━━━━━━━━━━━━━━━\u001b[0m\u001b[37m\u001b[0m \u001b[1m1s\u001b[0m 1s/step\n",
      "True labels: [0 1 1 0 1]\n",
      "Predicted: [0, 1, 1, 1, 1]\n"
     ]
    }
   ],
   "source": [
    "# Example usage\n",
    "sample = x_test[:5]  # just 5 reviews\n",
    "preds = predict_sentiment(sample)\n",
    "print(\"True labels:\", y_test[:5])\n",
    "print(\"Predicted:\", preds)"
   ]
  }
 ],
 "metadata": {
  "kernelspec": {
   "display_name": "Python 3",
   "language": "python",
   "name": "python3"
  },
  "language_info": {
   "codemirror_mode": {
    "name": "ipython",
    "version": 3
   },
   "file_extension": ".py",
   "mimetype": "text/x-python",
   "name": "python",
   "nbconvert_exporter": "python",
   "pygments_lexer": "ipython3",
   "version": "3.12.2"
  }
 },
 "nbformat": 4,
 "nbformat_minor": 5
}
